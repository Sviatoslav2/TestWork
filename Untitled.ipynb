{
 "cells": [
  {
   "cell_type": "code",
   "execution_count": 1,
   "metadata": {},
   "outputs": [
    {
     "name": "stderr",
     "output_type": "stream",
     "text": [
      "C:\\Users\\Fedoriv\\Anaconda3\\lib\\site-packages\\h5py\\__init__.py:72: UserWarning: h5py is running against HDF5 1.10.2 when it was built against 1.10.3, this may cause problems\n",
      "  '{0}.{1}.{2}'.format(*version.hdf5_built_version_tuple)\n"
     ]
    }
   ],
   "source": [
    "from pypokerengine.players import BasePokerPlayer\n",
    "\n",
    "\n",
    "import numpy as np\n",
    "import pandas\n",
    "from tensorflow.keras import Input, Model\n",
    "from tensorflow.keras.layers import Dense\n",
    "from tensorflow.keras.wrappers.scikit_learn import KerasClassifier\n",
    "\n",
    "from tensorflow.keras import initializers\n",
    "from sklearn.pipeline import Pipeline\n",
    "from pypokerengine.utils.card_utils import gen_cards, estimate_hole_card_win_rate, _pick_unused_card, _fill_community_card"
   ]
  },
  {
   "cell_type": "code",
   "execution_count": null,
   "metadata": {},
   "outputs": [],
   "source": []
  },
  {
   "cell_type": "code",
   "execution_count": null,
   "metadata": {},
   "outputs": [],
   "source": []
  },
  {
   "cell_type": "code",
   "execution_count": 2,
   "metadata": {},
   "outputs": [],
   "source": [
    "def baseline_model():\n",
    "    \n",
    "    inputs = Input(shape=(60))\n",
    "    \n",
    "    x = Dense(56, input_dim=4, activation='relu',kernel_initializer=initializers.RandomNormal(stddev=0.01),\n",
    "    bias_initializer=initializers.Zeros())(inputs)\n",
    "    outputs = (Dense(3, activation='softmax'))(x)\n",
    "    model = Model(inputs, outputs)\n",
    "    model.compile(loss='categorical_crossentropy', optimizer='adam', metrics=['accuracy'])\n",
    "    return model"
   ]
  },
  {
   "cell_type": "code",
   "execution_count": 3,
   "metadata": {},
   "outputs": [
    {
     "name": "stdout",
     "output_type": "stream",
     "text": [
      "Model: \"model\"\n",
      "_________________________________________________________________\n",
      "Layer (type)                 Output Shape              Param #   \n",
      "=================================================================\n",
      "input_1 (InputLayer)         [(None, 60)]              0         \n",
      "_________________________________________________________________\n",
      "dense (Dense)                (None, 56)                3416      \n",
      "_________________________________________________________________\n",
      "dense_1 (Dense)              (None, 3)                 171       \n",
      "=================================================================\n",
      "Total params: 3,587\n",
      "Trainable params: 3,587\n",
      "Non-trainable params: 0\n",
      "_________________________________________________________________\n"
     ]
    }
   ],
   "source": [
    "model = baseline_model()\n",
    "model.summary()"
   ]
  },
  {
   "cell_type": "code",
   "execution_count": null,
   "metadata": {},
   "outputs": [],
   "source": []
  },
  {
   "cell_type": "code",
   "execution_count": 25,
   "metadata": {},
   "outputs": [],
   "source": [
    "def get_one_hot_vector(cards_in_game, stret):    \n",
    "    nb_classes = 56\n",
    "    cards = [card.to_id() for card in cards_in_game]\n",
    "    targets = np.array([cards]).reshape(-1)\n",
    "    one_hot_targets = np.eye(nb_classes)[targets]\n",
    "    stret_one_hot = np.eye(4)[np.array([[stret]]).reshape(-1)][0]  # 0, 1, 0, 0 ==> flop\n",
    "    \n",
    "    \n",
    "    for i in range(1,one_hot_targets.shape[0]):\n",
    "        one_hot_targets[0] += one_hot_targets[i]\n",
    "    \n",
    "    \n",
    "    return np.concatenate([stret_one_hot, one_hot_targets[0]]).reshape(1,-1)"
   ]
  },
  {
   "cell_type": "code",
   "execution_count": 32,
   "metadata": {},
   "outputs": [],
   "source": [
    "class PokerPlayer(BasePokerPlayer):  # Do not forget to make parent class as \"BasePokerPlayer\"\n",
    "    FOLD, CALL, MIN_RAISE, MAX_RAISE = 0, 1, 2, 3\n",
    "    model = baseline_model()\n",
    "\n",
    "   \n",
    "    def declare_action(self, valid_actions, hole_card, round_state):\n",
    "        if round_state['street'] == 'preflop':\n",
    "            state = 0\n",
    "        elif round_state['street'] == \"flop\":\n",
    "            state = 1\n",
    "        elif round_state['street'] == \"turn\":\n",
    "            state = 2    \n",
    "        elif round_state['street'] ==  \"river\":\n",
    "            state = 3\n",
    "        \n",
    "        \n",
    "        hole_card = hole_card + round_state['community_card']\n",
    "        cards = gen_cards(hole_card)\n",
    "        data = get_one_hot_vector(cards, state)\n",
    "        res = model.predict(data)\n",
    "        action = valid_actions[np.argmax(res)]\n",
    "        \n",
    "        \n",
    "        if type(action['amount']) == dict:\n",
    "            action['amount'] = action['amount']['max']#'max'\n",
    "        \n",
    "    \n",
    "        return action['action'], action['amount']\n",
    "\n",
    "    def receive_game_start_message(self, game_info):\n",
    "        self.nb_player = game_info['player_num']\n",
    "\n",
    "    def receive_round_start_message(self, round_count, hole_card, seats):\n",
    "        pass\n",
    "\n",
    "    def receive_street_start_message(self, street, round_state):\n",
    "        pass\n",
    "\n",
    "    def receive_game_update_message(self, action, round_state):\n",
    "        pass\n",
    "\n",
    "    def receive_round_result_message(self, winners, hand_info, round_state):\n",
    "        pass"
   ]
  },
  {
   "cell_type": "code",
   "execution_count": 33,
   "metadata": {},
   "outputs": [
    {
     "name": "stdout",
     "output_type": "stream",
     "text": [
      "config ==  <pypokerengine.api.game.Config object at 0x00000117A6423400>\n",
      "Started the round 1\n",
      "Street \"preflop\" started. (community card = [])\n",
      "\"p1\" declared \"call:10\"\n",
      "\"p2\" declared \"fold:0\"\n",
      "\"p3\" declared \"fold:0\"\n",
      "\"['p1']\" won the round 1 (stack = {'p1': 115, 'p2': 95, 'p3': 90})\n",
      "Started the round 2\n",
      "Street \"preflop\" started. (community card = [])\n",
      "\"p2\" declared \"call:10\"\n",
      "\"p3\" declared \"fold:0\"\n",
      "\"p1\" declared \"fold:0\"\n",
      "\"['p2']\" won the round 2 (stack = {'p1': 105, 'p2': 110, 'p3': 85})\n",
      "Started the round 3\n",
      "Street \"preflop\" started. (community card = [])\n",
      "\"p3\" declared \"raise:85\"\n",
      "\"p1\" declared \"raise:-1\"\n",
      "\"p2\" declared \"raise:-1\"\n",
      "\"['p3']\" won the round 3 (stack = {'p1': 100, 'p2': 100, 'p3': 100})\n",
      "Started the round 4\n",
      "Street \"preflop\" started. (community card = [])\n",
      "\"p1\" declared \"call:10\"\n",
      "\"p2\" declared \"fold:0\"\n",
      "\"p3\" declared \"call:10\"\n",
      "Street \"flop\" started. (community card = ['HA', 'H7', 'CQ'])\n",
      "\"p3\" declared \"fold:0\"\n",
      "\"['p1']\" won the round 4 (stack = {'p1': 115, 'p2': 95, 'p3': 90})\n",
      "Started the round 5\n",
      "Street \"preflop\" started. (community card = [])\n",
      "\"p2\" declared \"fold:0\"\n",
      "\"p3\" declared \"fold:0\"\n",
      "\"['p1']\" won the round 5 (stack = {'p1': 120, 'p2': 95, 'p3': 85})\n",
      "Started the round 6\n",
      "Street \"preflop\" started. (community card = [])\n",
      "\"p3\" declared \"fold:0\"\n",
      "\"p1\" declared \"fold:0\"\n",
      "\"['p2']\" won the round 6 (stack = {'p1': 115, 'p2': 100, 'p3': 85})\n",
      "Started the round 7\n",
      "Street \"preflop\" started. (community card = [])\n",
      "\"p1\" declared \"call:10\"\n",
      "\"p2\" declared \"raise:100\"\n",
      "\"p3\" declared \"raise:-1\"\n",
      "\"p1\" declared \"call:100\"\n",
      "Street \"flop\" started. (community card = ['C7', 'DT', 'D3'])\n",
      "Street \"turn\" started. (community card = ['C7', 'DT', 'D3', 'D5'])\n",
      "Street \"river\" started. (community card = ['C7', 'DT', 'D3', 'D5', 'DK'])\n",
      "\"['p1']\" won the round 7 (stack = {'p1': 225, 'p2': 0, 'p3': 75})\n",
      "Started the round 8\n",
      "Street \"preflop\" started. (community card = [])\n",
      "\"p1\" declared \"fold:0\"\n",
      "\"['p3']\" won the round 8 (stack = {'p1': 220, 'p2': 0, 'p3': 80})\n",
      "Started the round 9\n",
      "Street \"preflop\" started. (community card = [])\n",
      "\"p3\" declared \"call:10\"\n",
      "\"p1\" declared \"call:10\"\n",
      "Street \"flop\" started. (community card = ['H2', 'H8', 'C3'])\n",
      "\"p3\" declared \"call:0\"\n",
      "\"p1\" declared \"call:0\"\n",
      "Street \"turn\" started. (community card = ['H2', 'H8', 'C3', 'C4'])\n",
      "\"p3\" declared \"fold:0\"\n",
      "\"['p1']\" won the round 9 (stack = {'p1': 230, 'p2': 0, 'p3': 70})\n",
      "Started the round 10\n",
      "Street \"preflop\" started. (community card = [])\n",
      "\"p1\" declared \"call:10\"\n",
      "\"p3\" declared \"call:10\"\n",
      "Street \"flop\" started. (community card = ['DK', 'D3', 'HT'])\n",
      "\"p1\" declared \"raise:220\"\n",
      "\"p3\" declared \"call:220\"\n",
      "Street \"turn\" started. (community card = ['DK', 'D3', 'HT', 'H7'])\n",
      "Street \"river\" started. (community card = ['DK', 'D3', 'HT', 'H7', 'C7'])\n",
      "\"['p1']\" won the round 10 (stack = {'p1': 300, 'p2': 0, 'p3': 0})\n"
     ]
    }
   ],
   "source": [
    "from pypokerengine.api.game import setup_config, start_poker\n",
    "\n",
    "config = setup_config(max_round=10, initial_stack=100, small_blind_amount=5)\n",
    "config.register_player(name=\"p1\", algorithm=PokerPlayer())\n",
    "config.register_player(name=\"p2\", algorithm=PokerPlayer())\n",
    "config.register_player(name=\"p3\", algorithm=PokerPlayer())\n",
    "\n",
    "\n",
    "print(\"config == \",config)\n",
    "game_result = start_poker(config, verbose=1)"
   ]
  },
  {
   "cell_type": "code",
   "execution_count": null,
   "metadata": {},
   "outputs": [],
   "source": []
  },
  {
   "cell_type": "code",
   "execution_count": null,
   "metadata": {},
   "outputs": [],
   "source": []
  },
  {
   "cell_type": "code",
   "execution_count": null,
   "metadata": {},
   "outputs": [],
   "source": []
  },
  {
   "cell_type": "code",
   "execution_count": null,
   "metadata": {},
   "outputs": [],
   "source": []
  },
  {
   "cell_type": "code",
   "execution_count": null,
   "metadata": {},
   "outputs": [],
   "source": []
  },
  {
   "cell_type": "code",
   "execution_count": null,
   "metadata": {},
   "outputs": [],
   "source": []
  },
  {
   "cell_type": "code",
   "execution_count": null,
   "metadata": {},
   "outputs": [],
   "source": []
  },
  {
   "cell_type": "code",
   "execution_count": null,
   "metadata": {},
   "outputs": [],
   "source": []
  },
  {
   "cell_type": "code",
   "execution_count": null,
   "metadata": {},
   "outputs": [],
   "source": []
  },
  {
   "cell_type": "code",
   "execution_count": null,
   "metadata": {},
   "outputs": [],
   "source": []
  },
  {
   "cell_type": "code",
   "execution_count": null,
   "metadata": {},
   "outputs": [],
   "source": []
  },
  {
   "cell_type": "code",
   "execution_count": null,
   "metadata": {},
   "outputs": [],
   "source": []
  },
  {
   "cell_type": "code",
   "execution_count": null,
   "metadata": {},
   "outputs": [],
   "source": []
  },
  {
   "cell_type": "code",
   "execution_count": null,
   "metadata": {},
   "outputs": [],
   "source": []
  }
 ],
 "metadata": {
  "kernelspec": {
   "display_name": "Python 3",
   "language": "python",
   "name": "python3"
  },
  "language_info": {
   "codemirror_mode": {
    "name": "ipython",
    "version": 3
   },
   "file_extension": ".py",
   "mimetype": "text/x-python",
   "name": "python",
   "nbconvert_exporter": "python",
   "pygments_lexer": "ipython3",
   "version": "3.7.3"
  }
 },
 "nbformat": 4,
 "nbformat_minor": 4
}
